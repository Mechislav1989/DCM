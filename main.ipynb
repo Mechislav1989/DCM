!pip install pydicom vtk
import pydicom
import os
import vtk
import numpy as np

dicom_dir = "/path/to/dicom/folder"
slices = []
for filename in os.listdir(dicom_dir):
    if filename.endswith(".dcm"):
        ds = pydicom.dcmread(os.path.join(dicom_dir, filename))
        slices.append(ds.pixel_array)
        
data_array = np.stack(slices, axis=2)
vtk_image_data = vtk.vtkImageData()
vtk_image_data.SetDimensions(data_array.shape)
vtk_image_data.SetSpacing((1, 1, 1))
vtk_image_data.SetOrigin((0, 0, 0))
vtk_image_data.AllocateScalars(vtk.VTK_UNSIGNED_SHORT, 1)
vtk_image_data.GetPointData().SetScalars(vtk.util.numpy_support.numpy_to_vtk(data_array.ravel(), deep=True, array_type=vtk.VTK_UNSIGNED_SHORT)))        

volume_mapper = vtk.vtkSmartVolumeMapper()
volume_mapper.SetInputData(vtk_image_data)
volume_mapper.Update()

volume_property = vtk.vtkVolumeProperty()
volume_property.SetScalarOpacityUnitDistance(1)

volume = vtk.vtkVolume()
volume.SetMapper(volume_mapper)
volume.SetProperty(volume_property)

renderer = vtk.vtkRenderer()
renderer.AddVolume(volume)
renderer.SetBackground(1, 1, 1)

render_window = vtk.vtkRenderWindow()
render_window.AddRenderer(renderer)
render_window.SetSize(800, 800)

interactor = vtk.vtkRenderWindowInteractor()
interactor.SetRenderWindow(render_window)
interactor.Initialize()
render_window.Render()
interactor.Start()
